{
 "cells": [
  {
   "cell_type": "code",
   "execution_count": 3,
   "id": "8c244065",
   "metadata": {},
   "outputs": [],
   "source": [
    "import pandas as pd\n",
    "import numpy as np\n",
    "import matplotlib.pyplot as plt\n",
    "from mpl_toolkits.mplot3d import Axes3D\n",
    "import somoclu\n",
    "%matplotlib inline \n"
   ]
  },
  {
   "cell_type": "code",
   "execution_count": 16,
   "id": "981dc245",
   "metadata": {},
   "outputs": [
    {
     "data": {
      "text/html": [
       "<div>\n",
       "<style scoped>\n",
       "    .dataframe tbody tr th:only-of-type {\n",
       "        vertical-align: middle;\n",
       "    }\n",
       "\n",
       "    .dataframe tbody tr th {\n",
       "        vertical-align: top;\n",
       "    }\n",
       "\n",
       "    .dataframe thead th {\n",
       "        text-align: right;\n",
       "    }\n",
       "</style>\n",
       "<table border=\"1\" class=\"dataframe\">\n",
       "  <thead>\n",
       "    <tr style=\"text-align: right;\">\n",
       "      <th></th>\n",
       "      <th>pressure_station</th>\n",
       "      <th>pressure_sea</th>\n",
       "      <th>wind_dir_10s</th>\n",
       "      <th>wind_speed</th>\n",
       "      <th>relative_humidity</th>\n",
       "      <th>dew_point</th>\n",
       "      <th>temperature</th>\n",
       "      <th>visibility</th>\n",
       "      <th>max_air_temp_pst1hr</th>\n",
       "      <th>min_air_temp_pst1hr</th>\n",
       "    </tr>\n",
       "  </thead>\n",
       "  <tbody>\n",
       "    <tr>\n",
       "      <th>0</th>\n",
       "      <td>102.57</td>\n",
       "      <td>103.01</td>\n",
       "      <td>25</td>\n",
       "      <td>8</td>\n",
       "      <td>79</td>\n",
       "      <td>-9.8</td>\n",
       "      <td>-6.7</td>\n",
       "      <td>24100</td>\n",
       "      <td>-4.1</td>\n",
       "      <td>-6.1</td>\n",
       "    </tr>\n",
       "    <tr>\n",
       "      <th>1</th>\n",
       "      <td>102.47</td>\n",
       "      <td>102.91</td>\n",
       "      <td>26</td>\n",
       "      <td>8</td>\n",
       "      <td>74</td>\n",
       "      <td>-9.1</td>\n",
       "      <td>-5.1</td>\n",
       "      <td>24100</td>\n",
       "      <td>-4.0</td>\n",
       "      <td>-5.2</td>\n",
       "    </tr>\n",
       "    <tr>\n",
       "      <th>2</th>\n",
       "      <td>102.36</td>\n",
       "      <td>102.80</td>\n",
       "      <td>25</td>\n",
       "      <td>5</td>\n",
       "      <td>72</td>\n",
       "      <td>-8.9</td>\n",
       "      <td>-4.6</td>\n",
       "      <td>24100</td>\n",
       "      <td>-3.9</td>\n",
       "      <td>-5.3</td>\n",
       "    </tr>\n",
       "    <tr>\n",
       "      <th>3</th>\n",
       "      <td>102.28</td>\n",
       "      <td>102.71</td>\n",
       "      <td>30</td>\n",
       "      <td>11</td>\n",
       "      <td>65</td>\n",
       "      <td>-9.0</td>\n",
       "      <td>-3.3</td>\n",
       "      <td>24100</td>\n",
       "      <td>-3.3</td>\n",
       "      <td>-4.2</td>\n",
       "    </tr>\n",
       "    <tr>\n",
       "      <th>4</th>\n",
       "      <td>102.17</td>\n",
       "      <td>102.60</td>\n",
       "      <td>31</td>\n",
       "      <td>16</td>\n",
       "      <td>63</td>\n",
       "      <td>-9.1</td>\n",
       "      <td>-3.0</td>\n",
       "      <td>24100</td>\n",
       "      <td>-2.7</td>\n",
       "      <td>-3.7</td>\n",
       "    </tr>\n",
       "    <tr>\n",
       "      <th>...</th>\n",
       "      <td>...</td>\n",
       "      <td>...</td>\n",
       "      <td>...</td>\n",
       "      <td>...</td>\n",
       "      <td>...</td>\n",
       "      <td>...</td>\n",
       "      <td>...</td>\n",
       "      <td>...</td>\n",
       "      <td>...</td>\n",
       "      <td>...</td>\n",
       "    </tr>\n",
       "    <tr>\n",
       "      <th>8779</th>\n",
       "      <td>99.26</td>\n",
       "      <td>99.67</td>\n",
       "      <td>23</td>\n",
       "      <td>20</td>\n",
       "      <td>91</td>\n",
       "      <td>-1.7</td>\n",
       "      <td>-0.4</td>\n",
       "      <td>6400</td>\n",
       "      <td>-0.2</td>\n",
       "      <td>-0.5</td>\n",
       "    </tr>\n",
       "    <tr>\n",
       "      <th>8780</th>\n",
       "      <td>99.28</td>\n",
       "      <td>99.69</td>\n",
       "      <td>23</td>\n",
       "      <td>18</td>\n",
       "      <td>92</td>\n",
       "      <td>-1.4</td>\n",
       "      <td>-0.3</td>\n",
       "      <td>8100</td>\n",
       "      <td>0.1</td>\n",
       "      <td>-0.2</td>\n",
       "    </tr>\n",
       "    <tr>\n",
       "      <th>8781</th>\n",
       "      <td>99.29</td>\n",
       "      <td>99.70</td>\n",
       "      <td>24</td>\n",
       "      <td>17</td>\n",
       "      <td>88</td>\n",
       "      <td>-1.8</td>\n",
       "      <td>0.0</td>\n",
       "      <td>6400</td>\n",
       "      <td>0.3</td>\n",
       "      <td>0.1</td>\n",
       "    </tr>\n",
       "    <tr>\n",
       "      <th>8782</th>\n",
       "      <td>99.27</td>\n",
       "      <td>99.68</td>\n",
       "      <td>24</td>\n",
       "      <td>19</td>\n",
       "      <td>86</td>\n",
       "      <td>-2.1</td>\n",
       "      <td>0.0</td>\n",
       "      <td>24100</td>\n",
       "      <td>0.3</td>\n",
       "      <td>0.0</td>\n",
       "    </tr>\n",
       "    <tr>\n",
       "      <th>8783</th>\n",
       "      <td>99.29</td>\n",
       "      <td>99.70</td>\n",
       "      <td>24</td>\n",
       "      <td>17</td>\n",
       "      <td>87</td>\n",
       "      <td>-2.0</td>\n",
       "      <td>0.0</td>\n",
       "      <td>19300</td>\n",
       "      <td>0.8</td>\n",
       "      <td>0.3</td>\n",
       "    </tr>\n",
       "  </tbody>\n",
       "</table>\n",
       "<p>8784 rows × 10 columns</p>\n",
       "</div>"
      ],
      "text/plain": [
       "      pressure_station  pressure_sea  wind_dir_10s  wind_speed  \\\n",
       "0               102.57        103.01            25           8   \n",
       "1               102.47        102.91            26           8   \n",
       "2               102.36        102.80            25           5   \n",
       "3               102.28        102.71            30          11   \n",
       "4               102.17        102.60            31          16   \n",
       "...                ...           ...           ...         ...   \n",
       "8779             99.26         99.67            23          20   \n",
       "8780             99.28         99.69            23          18   \n",
       "8781             99.29         99.70            24          17   \n",
       "8782             99.27         99.68            24          19   \n",
       "8783             99.29         99.70            24          17   \n",
       "\n",
       "      relative_humidity  dew_point  temperature  visibility  \\\n",
       "0                    79       -9.8         -6.7       24100   \n",
       "1                    74       -9.1         -5.1       24100   \n",
       "2                    72       -8.9         -4.6       24100   \n",
       "3                    65       -9.0         -3.3       24100   \n",
       "4                    63       -9.1         -3.0       24100   \n",
       "...                 ...        ...          ...         ...   \n",
       "8779                 91       -1.7         -0.4        6400   \n",
       "8780                 92       -1.4         -0.3        8100   \n",
       "8781                 88       -1.8          0.0        6400   \n",
       "8782                 86       -2.1          0.0       24100   \n",
       "8783                 87       -2.0          0.0       19300   \n",
       "\n",
       "      max_air_temp_pst1hr  min_air_temp_pst1hr  \n",
       "0                    -4.1                 -6.1  \n",
       "1                    -4.0                 -5.2  \n",
       "2                    -3.9                 -5.3  \n",
       "3                    -3.3                 -4.2  \n",
       "4                    -2.7                 -3.7  \n",
       "...                   ...                  ...  \n",
       "8779                 -0.2                 -0.5  \n",
       "8780                  0.1                 -0.2  \n",
       "8781                  0.3                  0.1  \n",
       "8782                  0.3                  0.0  \n",
       "8783                  0.8                  0.3  \n",
       "\n",
       "[8784 rows x 10 columns]"
      ]
     },
     "execution_count": 16,
     "metadata": {},
     "output_type": "execute_result"
    }
   ],
   "source": [
    "df = pd.read_csv('C:/Users/asady/OneDrive - polymtl.ca/Data/Resource/Material/Raw Data/Weather/Hourly2020.csv', sep=\";\")\n",
    "#df.set_index(\"date_time_local\", inplace=True)\n",
    "#df.sort_values(by=\"date_time_local\", ascending= False)\n",
    "del df['date_time_local']\n",
    "del df['wind_dir']\n",
    "df"
   ]
  },
  {
   "cell_type": "code",
   "execution_count": 17,
   "id": "72fb99de",
   "metadata": {},
   "outputs": [],
   "source": [
    "dg = np.array(df)"
   ]
  },
  {
   "cell_type": "code",
   "execution_count": 18,
   "id": "a0d4a403",
   "metadata": {},
   "outputs": [
    {
     "name": "stdout",
     "output_type": "stream",
     "text": [
      "Warning: passing the data in the constructor is deprecated.\n",
      "Warning: data was not float32. A 32-bit copy was made\n"
     ]
    },
    {
     "ename": "NameError",
     "evalue": "name 'wrap_train' is not defined",
     "output_type": "error",
     "traceback": [
      "\u001b[1;31m---------------------------------------------------------------------------\u001b[0m",
      "\u001b[1;31mNameError\u001b[0m                                 Traceback (most recent call last)",
      "\u001b[1;32m<timed eval>\u001b[0m in \u001b[0;36m<module>\u001b[1;34m\u001b[0m\n",
      "\u001b[1;32m~\\.conda\\envs\\Gower\\lib\\site-packages\\somoclu\\train.py\u001b[0m in \u001b[0;36mtrain\u001b[1;34m(self, data, epochs, radius0, radiusN, radiuscooling, scale0, scaleN, scalecooling)\u001b[0m\n\u001b[0;32m    220\u001b[0m         \u001b[0mself\u001b[0m\u001b[1;33m.\u001b[0m\u001b[0mumatrix\u001b[0m\u001b[1;33m.\u001b[0m\u001b[0mshape\u001b[0m \u001b[1;33m=\u001b[0m \u001b[1;33m(\u001b[0m\u001b[0mself\u001b[0m\u001b[1;33m.\u001b[0m\u001b[0m_n_rows\u001b[0m \u001b[1;33m*\u001b[0m \u001b[0mself\u001b[0m\u001b[1;33m.\u001b[0m\u001b[0m_n_columns\u001b[0m\u001b[1;33m,\u001b[0m \u001b[1;33m)\u001b[0m\u001b[1;33m\u001b[0m\u001b[1;33m\u001b[0m\u001b[0m\n\u001b[0;32m    221\u001b[0m         \u001b[0mself\u001b[0m\u001b[1;33m.\u001b[0m\u001b[0mbmus\u001b[0m\u001b[1;33m.\u001b[0m\u001b[0mshape\u001b[0m \u001b[1;33m=\u001b[0m \u001b[1;33m(\u001b[0m\u001b[0mself\u001b[0m\u001b[1;33m.\u001b[0m\u001b[0mn_vectors\u001b[0m \u001b[1;33m*\u001b[0m \u001b[1;36m2\u001b[0m\u001b[1;33m,\u001b[0m \u001b[1;33m)\u001b[0m\u001b[1;33m\u001b[0m\u001b[1;33m\u001b[0m\u001b[0m\n\u001b[1;32m--> 222\u001b[1;33m         wrap_train(np.ravel(self._data), epochs, self._n_columns, self._n_rows,\n\u001b[0m\u001b[0;32m    223\u001b[0m                    \u001b[0mself\u001b[0m\u001b[1;33m.\u001b[0m\u001b[0mn_dim\u001b[0m\u001b[1;33m,\u001b[0m \u001b[0mself\u001b[0m\u001b[1;33m.\u001b[0m\u001b[0mn_vectors\u001b[0m\u001b[1;33m,\u001b[0m \u001b[0mradius0\u001b[0m\u001b[1;33m,\u001b[0m \u001b[0mradiusN\u001b[0m\u001b[1;33m,\u001b[0m\u001b[1;33m\u001b[0m\u001b[1;33m\u001b[0m\u001b[0m\n\u001b[0;32m    224\u001b[0m                    \u001b[0mradiuscooling\u001b[0m\u001b[1;33m,\u001b[0m \u001b[0mscale0\u001b[0m\u001b[1;33m,\u001b[0m \u001b[0mscaleN\u001b[0m\u001b[1;33m,\u001b[0m \u001b[0mscalecooling\u001b[0m\u001b[1;33m,\u001b[0m\u001b[1;33m\u001b[0m\u001b[1;33m\u001b[0m\u001b[0m\n",
      "\u001b[1;31mNameError\u001b[0m: name 'wrap_train' is not defined"
     ]
    }
   ],
   "source": [
    "n_rows, n_columns = 100, 160\n",
    "som = somoclu.Somoclu(n_columns, n_rows, data=dg)\n",
    "%time som.train()"
   ]
  },
  {
   "cell_type": "code",
   "execution_count": 19,
   "id": "086148d6",
   "metadata": {},
   "outputs": [
    {
     "ename": "IndexError",
     "evalue": "too many indices for array: array is 1-dimensional, but 3 were indexed",
     "output_type": "error",
     "traceback": [
      "\u001b[1;31m---------------------------------------------------------------------------\u001b[0m",
      "\u001b[1;31mIndexError\u001b[0m                                Traceback (most recent call last)",
      "\u001b[1;32m~\\AppData\\Local\\Temp/ipykernel_37480/152546003.py\u001b[0m in \u001b[0;36m<module>\u001b[1;34m\u001b[0m\n\u001b[1;32m----> 1\u001b[1;33m \u001b[0msom\u001b[0m\u001b[1;33m.\u001b[0m\u001b[0mview_component_planes\u001b[0m\u001b[1;33m(\u001b[0m\u001b[1;33m)\u001b[0m\u001b[1;33m\u001b[0m\u001b[1;33m\u001b[0m\u001b[0m\n\u001b[0m",
      "\u001b[1;32m~\\.conda\\envs\\Gower\\lib\\site-packages\\somoclu\\train.py\u001b[0m in \u001b[0;36mview_component_planes\u001b[1;34m(self, dimensions, figsize, colormap, colorbar, bestmatches, bestmatchcolors, labels, zoom, filename)\u001b[0m\n\u001b[0;32m    288\u001b[0m             \u001b[0mdimensions\u001b[0m \u001b[1;33m=\u001b[0m \u001b[0mrange\u001b[0m\u001b[1;33m(\u001b[0m\u001b[0mself\u001b[0m\u001b[1;33m.\u001b[0m\u001b[0mn_dim\u001b[0m\u001b[1;33m)\u001b[0m\u001b[1;33m\u001b[0m\u001b[1;33m\u001b[0m\u001b[0m\n\u001b[0;32m    289\u001b[0m         \u001b[1;32mfor\u001b[0m \u001b[0mi\u001b[0m \u001b[1;32min\u001b[0m \u001b[0mdimensions\u001b[0m\u001b[1;33m:\u001b[0m\u001b[1;33m\u001b[0m\u001b[1;33m\u001b[0m\u001b[0m\n\u001b[1;32m--> 290\u001b[1;33m             plt = self._view_matrix(self.codebook[:, :, i], figsize, colormap,\n\u001b[0m\u001b[0;32m    291\u001b[0m                                     \u001b[0mcolorbar\u001b[0m\u001b[1;33m,\u001b[0m \u001b[0mbestmatches\u001b[0m\u001b[1;33m,\u001b[0m \u001b[0mbestmatchcolors\u001b[0m\u001b[1;33m,\u001b[0m\u001b[1;33m\u001b[0m\u001b[1;33m\u001b[0m\u001b[0m\n\u001b[0;32m    292\u001b[0m                                     labels, zoom, filename)\n",
      "\u001b[1;31mIndexError\u001b[0m: too many indices for array: array is 1-dimensional, but 3 were indexed"
     ]
    }
   ],
   "source": [
    "som.view_component_planes()\n"
   ]
  },
  {
   "cell_type": "code",
   "execution_count": 20,
   "id": "64b3bc19",
   "metadata": {},
   "outputs": [
    {
     "ename": "NameError",
     "evalue": "name 'colors' is not defined",
     "output_type": "error",
     "traceback": [
      "\u001b[1;31m---------------------------------------------------------------------------\u001b[0m",
      "\u001b[1;31mNameError\u001b[0m                                 Traceback (most recent call last)",
      "\u001b[1;32m~\\AppData\\Local\\Temp/ipykernel_37480/4280344416.py\u001b[0m in \u001b[0;36m<module>\u001b[1;34m\u001b[0m\n\u001b[1;32m----> 1\u001b[1;33m \u001b[0msom\u001b[0m\u001b[1;33m.\u001b[0m\u001b[0mview_umatrix\u001b[0m\u001b[1;33m(\u001b[0m\u001b[0mbestmatches\u001b[0m\u001b[1;33m=\u001b[0m\u001b[1;32mTrue\u001b[0m\u001b[1;33m,\u001b[0m \u001b[0mbestmatchcolors\u001b[0m\u001b[1;33m=\u001b[0m\u001b[0mcolors\u001b[0m\u001b[1;33m,\u001b[0m \u001b[0mlabels\u001b[0m\u001b[1;33m=\u001b[0m\u001b[0mlabels\u001b[0m\u001b[1;33m)\u001b[0m\u001b[1;33m\u001b[0m\u001b[1;33m\u001b[0m\u001b[0m\n\u001b[0m",
      "\u001b[1;31mNameError\u001b[0m: name 'colors' is not defined"
     ]
    }
   ],
   "source": [
    "som.view_umatrix(bestmatches=True, bestmatchcolors=colors, labels=labels)"
   ]
  },
  {
   "cell_type": "code",
   "execution_count": 21,
   "id": "6e6ff4bf",
   "metadata": {},
   "outputs": [
    {
     "ename": "NameError",
     "evalue": "name 'colors' is not defined",
     "output_type": "error",
     "traceback": [
      "\u001b[1;31m---------------------------------------------------------------------------\u001b[0m",
      "\u001b[1;31mNameError\u001b[0m                                 Traceback (most recent call last)",
      "\u001b[1;32m~\\AppData\\Local\\Temp/ipykernel_37480/4047254569.py\u001b[0m in \u001b[0;36m<module>\u001b[1;34m\u001b[0m\n\u001b[1;32m----> 1\u001b[1;33m som.view_umatrix(bestmatches=True, bestmatchcolors=colors, labels=labels, \n\u001b[0m\u001b[0;32m      2\u001b[0m                  zoom=((50, n_rows), (100, n_columns)))\n",
      "\u001b[1;31mNameError\u001b[0m: name 'colors' is not defined"
     ]
    }
   ],
   "source": [
    "som.view_umatrix(bestmatches=True, bestmatchcolors=colors, labels=labels, \n",
    "                 zoom=((50, n_rows), (100, n_columns)))"
   ]
  },
  {
   "cell_type": "code",
   "execution_count": null,
   "id": "b72ee198",
   "metadata": {},
   "outputs": [],
   "source": [
    "som = somoclu.Somoclu(n_columns, n_rows, data=data, maptype=\"toroid\")\n",
    "som.train()\n",
    "som.view_umatrix(bestmatches=True, bestmatchcolors=colors)"
   ]
  },
  {
   "cell_type": "code",
   "execution_count": null,
   "id": "4d1b268e",
   "metadata": {},
   "outputs": [],
   "source": [
    "som = somoclu.Somoclu(n_columns, n_rows, data=data, gridtype=\"hexagonal\")\n",
    "som.train()\n",
    "som.view_umatrix(bestmatches=True, bestmatchcolors=colors)"
   ]
  },
  {
   "cell_type": "code",
   "execution_count": null,
   "id": "6b66002a",
   "metadata": {},
   "outputs": [],
   "source": [
    "som = somoclu.Somoclu(n_columns, n_rows, data=data, maptype=\"toroid\", initialization=\"pca\")\n",
    "som.train()\n",
    "som.view_umatrix(bestmatches=True, bestmatchcolors=colors)"
   ]
  },
  {
   "cell_type": "code",
   "execution_count": null,
   "id": "8767b552",
   "metadata": {},
   "outputs": [],
   "source": [
    "som.cluster()\n",
    "som.view_umatrix(bestmatches=True)"
   ]
  },
  {
   "cell_type": "code",
   "execution_count": null,
   "id": "578ac633",
   "metadata": {},
   "outputs": [],
   "source": [
    "from sklearn.cluster import DBSCAN\n",
    "algorithm = DBSCAN()\n",
    "som.cluster(algorithm=algorithm)\n",
    "som.view_umatrix(bestmatches=True)"
   ]
  },
  {
   "cell_type": "code",
   "execution_count": null,
   "id": "5336eef2",
   "metadata": {},
   "outputs": [],
   "source": [
    "som = somoclu.Somoclu(n_columns, n_rows, data=data, maptype=\"toroid\")\n",
    "som.train()"
   ]
  },
  {
   "cell_type": "code",
   "execution_count": null,
   "id": "cc32b9f8",
   "metadata": {},
   "outputs": [],
   "source": [
    "c2_shifted = c2 - 0.2\n",
    "updated_data = np.float32(np.concatenate((c1, c2_shifted, c3)))\n",
    "fig = plt.figure()\n",
    "ax = Axes3D(fig)\n",
    "ax.scatter(updated_data[:, 0], updated_data[:, 1], updated_data[:, 2], c=colors)"
   ]
  },
  {
   "cell_type": "code",
   "execution_count": null,
   "id": "a5466bbd",
   "metadata": {},
   "outputs": [],
   "source": [
    "som.view_umatrix(bestmatches=True, bestmatchcolors=colors, labels=labels)\n",
    "som.update_data(updated_data)\n",
    "som.train(epochs=2, radius0=20, scale0=0.02)\n",
    "som.view_umatrix(bestmatches=True, bestmatchcolors=colors, labels=labels)"
   ]
  }
 ],
 "metadata": {
  "kernelspec": {
   "display_name": "Python 3 (ipykernel)",
   "language": "python",
   "name": "python3"
  },
  "language_info": {
   "codemirror_mode": {
    "name": "ipython",
    "version": 3
   },
   "file_extension": ".py",
   "mimetype": "text/x-python",
   "name": "python",
   "nbconvert_exporter": "python",
   "pygments_lexer": "ipython3",
   "version": "3.8.11"
  }
 },
 "nbformat": 4,
 "nbformat_minor": 5
}
